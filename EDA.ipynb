{
 "cells": [
  {
   "cell_type": "code",
   "execution_count": 1,
   "id": "4d7805ed-153a-4042-a74f-499e31de474f",
   "metadata": {},
   "outputs": [],
   "source": [
    "import sys\n",
    "# !{sys.executable} -m pip install 'streamlit'"
   ]
  },
  {
   "cell_type": "code",
   "execution_count": 2,
   "id": "78fc09f1-9d45-46f5-8d22-5004acd346dc",
   "metadata": {},
   "outputs": [],
   "source": [
    "import pandas as pd\n",
    "import numpy as np\n",
    "import matplotlib.pyplot as plt\n",
    "import seaborn as sns\n",
    "import pickle as pkl\n",
    "import math"
   ]
  },
  {
   "cell_type": "code",
   "execution_count": 4,
   "id": "2cc67da0-203f-469e-8fdb-06dae52ccce3",
   "metadata": {},
   "outputs": [
    {
     "name": "stdout",
     "output_type": "stream",
     "text": [
      "Number of variables in HHdata:  279\n",
      "Number of variables in INdata:  77\n",
      "Number of variables in HHINdata:  355\n",
      "Number of observations in HHdata:  4826\n",
      "Number of observations in INdata:  14317\n",
      "Number of observations in HHINdata:  14317\n"
     ]
    },
    {
     "name": "stderr",
     "output_type": "stream",
     "text": [
      "/var/folders/_g/519tvcx524j765g2f3_01vbc0000gn/T/ipykernel_5635/998581035.py:6: DtypeWarning: Columns (9,11,54) have mixed types. Specify dtype option on import or set low_memory=False.\n",
      "  INdata = pd.read_csv(DataDir+\"faps_individual_puf.csv\")\n"
     ]
    }
   ],
   "source": [
    "DataDir = \"../CSV_data_files/\" \n",
    "\n",
    "HHdata = pd.read_csv(DataDir+\"faps_household_puf.csv\")\n",
    "HHdata.columns = HHdata.columns.str.strip().str.lower().str.replace(' ', '_',regex=True).str.replace('(', '',regex=True).str.replace(')', '',regex=True)\n",
    "\n",
    "INdata = pd.read_csv(DataDir+\"faps_individual_puf.csv\")\n",
    "INdata.columns = INdata.columns.str.strip().str.lower().str.replace(' ', '_',regex=True).str.replace('(', '',regex=True).str.replace(')', '',regex=True)\n",
    "\n",
    "HHINdata = HHdata.merge(INdata,how='inner',left_on='hhnum',right_on='hhnum')\n",
    "\n",
    "print(\"Number of variables in HHdata: \", len(HHdata.keys()))\n",
    "print(\"Number of variables in INdata: \", len(INdata.keys()))\n",
    "print(\"Number of variables in HHINdata: \", len(HHINdata.keys()))\n",
    "\n",
    "print(\"Number of observations in HHdata: \", len(HHdata))\n",
    "print(\"Number of observations in INdata: \", len(INdata))\n",
    "print(\"Number of observations in HHINdata: \", len(HHINdata))"
   ]
  },
  {
   "cell_type": "code",
   "execution_count": 48,
   "id": "e8a2cb19-ae3e-4f0c-a6b8-3e4891c4675d",
   "metadata": {},
   "outputs": [
    {
     "name": "stdout",
     "output_type": "stream",
     "text": [
      "HHINdata keys:\n"
     ]
    }
   ],
   "source": [
    "print(\"HHINdata keys:\")\n",
    "# for i,key in enumerate(HHINdata.keys()):\n",
    "#     print(\"\\t\", key)"
   ]
  },
  {
   "cell_type": "code",
   "execution_count": 5,
   "id": "037ba420",
   "metadata": {},
   "outputs": [
    {
     "name": "stdout",
     "output_type": "stream",
     "text": [
      "-30.0 183.07\n"
     ]
    },
    {
     "data": {
      "image/png": "[encoded data removed]",
      "text/plain": [
       "<Figure size 640x480 with 1 Axes>"
      ]
     },
     "metadata": {},
     "output_type": "display_data"
    }
   ],
   "source": [
    "HHINdata['bmi'] = HHINdata['bmi'].replace({'V':'-20', 'E':'-30'})\n",
    "\n",
    "HHINdata['bmi'] = HHINdata['bmi'].astype('float')\n",
    "\n",
    "print(min(HHINdata['bmi']),max(HHINdata['bmi']))\n",
    "\n",
    "plt.hist(HHINdata['bmi'],bins=30)\n",
    "plt.yscale(\"log\")\n",
    "plt.show()"
   ]
  },
  {
   "cell_type": "code",
   "execution_count": 29,
   "id": "0735514b-f675-4714-bbed-44cbd779496c",
   "metadata": {},
   "outputs": [],
   "source": [
    "#bins should be automated and create default value\n",
    "#range should be automated and create default value\n",
    "#DONE - Remove negative values from demographic variables (question skipped, N/A, etc.) \n",
    "def overlayDemHistPlotter(data,demos,targets):\n",
    "    color = [\"blue\",\"red\",\"green\",\"orange\",\"pink\",\"dimgray\",\"blueviolet\",\"magenta\"]\n",
    "    for i,target in enumerate(targets):\n",
    "        targetBins = int((data[target].max()-data[target].min())/math.sqrt(len(data[target])))\n",
    "        for i, demo in enumerate(demos):\n",
    "            for j, cat in enumerate(np.sort(data[demo][data[demo]>0].unique())):\n",
    "                y,x,_ = plt.hist(data[target][data[target]>0][data[demo]==cat],label=f'{demo}:{cat}',\n",
    "                         range=[data[target].min(),data[target].max()/3], \n",
    "                         histtype=\"step\",fill=False,color = color[j],\n",
    "                         bins=80)\n",
    "                plt.gca().set_xlim(left=0)\n",
    "                plt.vlines(data[target][data[target]>0][data[demo]==cat].mean(),0,500,color = color[j])\n",
    "                plt.title(f\"Target:{target}\")\n",
    "                plt.ylabel(\"count\")\n",
    "                plt.xlabel(target)\n",
    "            plt.legend()\n",
    "            plt.show()   "
   ]
  },
  {
   "cell_type": "code",
   "execution_count": 8,
   "id": "0672aea7-189e-401d-be5f-b769b5ff885c",
   "metadata": {},
   "outputs": [],
   "source": [
    "#Not necessary?\n",
    "def simpleDemHistPlotter(data, demos,targets):\n",
    "    for i,target in enumerate(targets):\n",
    "        for i, demo in enumerate(demos):\n",
    "            for j, cat in enumerate(np.sort(data[demo].unique())):\n",
    "                plt.hist(data[target][data[demo]==cat],bins=80)\n",
    "                plt.title(f\"Target:{target}\")\n",
    "                plt.annotate(f'{demo}:{cat}', xy=(1, 0.85), xycoords='axes fraction')\n",
    "                plt.ylabel(\"count\")\n",
    "                plt.xlabel(\"Amount Spent ($)\")\n",
    "                plt.show()   \n",
    "def simpleTargetHistPlotter(data, demos, targets):\n",
    "    for i,target in enumerate(targets):\n",
    "        for i, demo in enumerate(demos):\n",
    "            for j, cat in enumerate(np.sort(data[demo].unique())):\n",
    "                plt.hist(data[target][data[demo]==cat])\n",
    "                plt.title(target)\n",
    "                plt.annotate(f'{demo}:{cat}', xy=(1, 0.85), xycoords='axes fraction')\n",
    "                plt.ylabel(\"count\")\n",
    "                plt.xlabel(target)\n",
    "                plt.show()   \n",
    "                "
   ]
  },
  {
   "cell_type": "code",
   "execution_count": 9,
   "id": "7122af6e-0ff9-4d18-af4e-e62c3ccb7fd8",
   "metadata": {},
   "outputs": [],
   "source": [
    "def TargetCorrPlotter(data, demos, targets, corrType):\n",
    "    cmap = sns.diverging_palette(240,20, as_cmap=True)\n",
    "    for i, demo in enumerate(demos):\n",
    "        for j, cat in enumerate(np.sort(data[demo].unique())):\n",
    "            if corrType == \"Pearson\":\n",
    "                corr = data[targets].corr(method = 'pearson')\n",
    "                sns.heatmap(corr, square=True, vmin=-1,vmax=1, annot=True,fmt=\".2f\",cmap=cmap)\n",
    "                plt.title(\"Pearson's Correlation Coefficient Matrix\")\n",
    "                plt.annotate(f'{demo}:{cat}', xy=(1.4, 0.85), xycoords='axes fraction')\n",
    "                plt.show()\n",
    "            elif corrType == \"Spearman\":\n",
    "                corr = data[targets].corr(method = 'spearman')\n",
    "                sns.heatmap(corr, square=True, vmin=-1,vmax=1, annot=True,fmt=\".2f\",cmap=cmap)\n",
    "                plt.title(\"Spearman's Correlation Coefficient Matrix\")\n",
    "                plt.annotate(f'{demo}:{cat}', xy=(1.4, 0.85), xycoords='axes fraction')\n",
    "                plt.show()\n",
    "            elif corrType == \"PhiK\":\n",
    "                corr = data[targets].phik_matrix()\n",
    "                sns.heatmap(corr, square=True, vmin=0,vmax=1, annot=True, fmt=\".2f\", cmap=cmap)\n",
    "                plt.title(\"Phi-k Correlation Coefficient Matrix\")\n",
    "                plt.annotate(f'{demo}:{cat}', xy=(1.4, 0.85), xycoords='axes fraction')\n",
    "                plt.show()\n",
    "            else:\n",
    "                print(\"INVALID corrType\")"
   ]
  },
  {
   "cell_type": "code",
   "execution_count": 45,
   "id": "c81e05dd-a89e-4389-ab6d-8523efd77980",
   "metadata": {},
   "outputs": [],
   "source": [
    "def SurveyTargetScatterBoxPlotter(data, demos, surveys, targets):\n",
    "    for i,survey in enumerate(surveys):\n",
    "        for i, demo in enumerate(demos):\n",
    "            for j, cat in enumerate(np.sort(data[demo].unique())):\n",
    "                for k, target in enumerate(targets):\n",
    "                    dataTemp = data[data[demo]==cat]\n",
    "                    dataTemp.boxplot(target, survey,sym=\".\")\n",
    "                    plt.annotate(f'{demo}:{cat}\\n Grouped By {survey}', xy=(1, 0.85), xycoords='axes fraction')\n",
    "                    plt.ylabel(target+\" ($)\")\n",
    "                    plt.suptitle(\"\")\n",
    "                    plt.title(target)\n",
    "                plt.show()"
   ]
  },
  {
   "cell_type": "code",
   "execution_count": 31,
   "id": "e41cc7c7-b7b7-4bc5-9780-6519262f3b96",
   "metadata": {},
   "outputs": [],
   "source": [
    "# overlayDemHistPlotter(HHINdata,[\"dietstatushh\",\"healthycost\"],[\"bmi\",\"inchhavg_r\"])"
   ]
  },
  {
   "cell_type": "code",
   "execution_count": 35,
   "id": "97d491cb-a946-4fe4-9615-19454f19157f",
   "metadata": {},
   "outputs": [],
   "source": [
    "# simpleDemHistPlotter(HHINdata,[\"dietstatushh\",\"healthycost\"],[\"bmi\",\"inchhavg_r\"])"
   ]
  },
  {
   "cell_type": "code",
   "execution_count": 11,
   "id": "40031d8e-a819-4369-9d42-75044a3b2134",
   "metadata": {},
   "outputs": [],
   "source": [
    "# TargetCorrPlotter(HHINdata,[\"dietstatushh\",\"healthycost\"],[\"bmi\",\"inchhavg_r\"],\"Pearson\")"
   ]
  },
  {
   "cell_type": "code",
   "execution_count": 49,
   "id": "d3eea0c9-98fa-4d95-92db-20c52ed432ca",
   "metadata": {},
   "outputs": [],
   "source": [
    "# SurveyTargetScatterBoxPlotter(HHINdata, [\"educcat\",\"marital\"],[\"dietstatushh\",\"healthycost\",\"foodsufficient\"], [\"bmi\",\"inchhavg_r\"])"
   ]
  }
 ],
 "metadata": {
  "kernelspec": {
   "display_name": "Python 3 (ipykernel)",
   "language": "python",
   "name": "python3"
  },
  "language_info": {
   "codemirror_mode": {
    "name": "ipython",
    "version": 3
   },
   "file_extension": ".py",
   "mimetype": "text/x-python",
   "name": "python",
   "nbconvert_exporter": "python",
   "pygments_lexer": "ipython3",
   "version": "3.10.8"
  }
 },
 "nbformat": 4,
 "nbformat_minor": 5
}
